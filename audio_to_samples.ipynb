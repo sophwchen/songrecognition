{
 "cells": [
  {
   "cell_type": "code",
   "execution_count": 13,
   "metadata": {},
   "outputs": [],
   "source": [
    "import numpy as np\n",
    "import librosa\n",
    "from IPython.display import Audio\n",
    "from microphone import record_audio"
   ]
  },
  {
   "cell_type": "code",
   "execution_count": 7,
   "metadata": {},
   "outputs": [],
   "source": [
    "def mp3_path_to_samples(path: str,*,duration = None, sampling_rate=44100) -> np.array:\n",
    "    \"\"\"\n",
    "    parameters\n",
    "    ----------\n",
    "    path : str\n",
    "        the path to a .mp3 file\n",
    "            \n",
    "    duration : int\n",
    "        the length (seconds) of each generated sub-sample\n",
    "                 \n",
    "    sampling_rate : int\n",
    "         the sampling rate for the digital sample [Hz] (initially 44100)\n",
    "            \n",
    "    returns\n",
    "    ---------\n",
    "    samples : np.array\n",
    "        an array of digital samples from the .mp3 signal\n",
    "    \"\"\"\n",
    "    samples, sampling_rate = librosa.load(path, sr=sampling_rate, mono=True, duration=duration)\n",
    "    return np.array(samples)"
   ]
  },
  {
   "cell_type": "code",
   "execution_count": 1,
   "metadata": {},
   "outputs": [],
   "source": [
    "def microphone_audio_to_samples(listen_time=10):\n",
    "    \"\"\"\n",
    "    parameters\n",
    "    ----------\n",
    "    listen_time : int \n",
    "        the length of time (seconds) that the microphone will listen for (initially 10)    \n",
    "            \n",
    "    returns\n",
    "    ---------\n",
    "    sub_samples : np.array (num_samples, sample_length * sampling_rate)\n",
    "        an array of sub-samples derived form the original sample\n",
    "    \"\"\"\n",
    "    frames, sample_rate = record_audio(listen_time)\n",
    "    np.frombuffer(frames[0],np.int16)\n",
    "    samples = np.hstack([np.frombuffer(i, np.int16) for i in frames])\n",
    "    return samples"
   ]
  },
  {
   "cell_type": "code",
   "execution_count": null,
   "metadata": {},
   "outputs": [],
   "source": [
    "def create_sub_samples(samples: np.array, sample_length: int, num_samples: int, sampling_rate=44100) -> np.array:\n",
    "    \"\"\"\n",
    "    parameters\n",
    "    ----------\n",
    "    samples : np.array\n",
    "        an array of digital samples for an audio signal\n",
    "            \n",
    "    sample_length : int\n",
    "        the length (seconds) of each generated sub-sample\n",
    "            \n",
    "    num_samples : int\n",
    "        the amount of sub-samples to be created\n",
    "        \n",
    "    sampling_rate : int\n",
    "         the sampling rate for the digital sample [Hz] (initially 44100)\n",
    "            \n",
    "    returns\n",
    "    ---------\n",
    "    sub_samples : np.array (num_samples, sample_length * sampling_rate)\n",
    "        an array of sub-samples derived form the original sample\n",
    "    \"\"\"\n",
    "    sample_n = sample_length*sampling_rate\n",
    "    sub_samples = []\n",
    "    for i in range(num_samples):\n",
    "        start = random.randint(0,len(samples)-sample_n)\n",
    "        sub_sample = samples[start:start+sample_n]\n",
    "        sub_samples.append(sub_sample)\n",
    "    return np.array(sub_samples)"
   ]
  }
 ],
 "metadata": {
  "kernelspec": {
   "display_name": "Python 3",
   "language": "python",
   "name": "python3"
  },
  "language_info": {
   "codemirror_mode": {
    "name": "ipython",
    "version": 3
   },
   "file_extension": ".py",
   "mimetype": "text/x-python",
   "name": "python",
   "nbconvert_exporter": "python",
   "pygments_lexer": "ipython3",
   "version": "3.8.10"
  }
 },
 "nbformat": 4,
 "nbformat_minor": 4
}
