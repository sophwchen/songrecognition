{
 "cells": [
  {
   "cell_type": "code",
   "execution_count": 99,
   "id": "f80a0787",
   "metadata": {},
   "outputs": [],
   "source": [
    "import numpy as np\n",
    "\n",
    "def create_fingerprints(peaks, fanout):\n",
    "    rows = [] # frequency\n",
    "    columns = [] # time\n",
    "    fingerprints = []\n",
    "    database = {}\n",
    "    names = []\n",
    "\n",
    "    for r, c in peaks: # split the peaks into 2 list containing rows and columns\n",
    "        rows.append(r)\n",
    "        columns.append(c)  \n",
    "                       \n",
    "    for i in range(0, len(peaks) - 1):\n",
    "        for n in range(1, fanout + 1):\n",
    "            if i + n < len(peaks):\n",
    "                fingerprints.append(((rows[i], rows[i + n], columns[i + n] - columns[i]), columns[i]))\n",
    "            else:\n",
    "                break\n",
    "                \n",
    "    return fingerprints"
   ]
  },
  {
   "cell_type": "code",
   "execution_count": null,
   "id": "1a22ee45",
   "metadata": {},
   "outputs": [],
   "source": []
  }
 ],
 "metadata": {
  "kernelspec": {
   "display_name": "Python 3",
   "language": "python",
   "name": "python3"
  },
  "language_info": {
   "codemirror_mode": {
    "name": "ipython",
    "version": 3
   },
   "file_extension": ".py",
   "mimetype": "text/x-python",
   "name": "python",
   "nbconvert_exporter": "python",
   "pygments_lexer": "ipython3",
   "version": "3.8.10"
  }
 },
 "nbformat": 4,
 "nbformat_minor": 5
}
