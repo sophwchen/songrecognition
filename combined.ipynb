{
 "cells": [
  {
   "cell_type": "code",
   "execution_count": 1,
   "id": "69ddc38d",
   "metadata": {},
   "outputs": [],
   "source": [
    "import numpy as np\n",
    "import matplotlib.pyplot as plt\n",
    "import matplotlib.mlab as mlab\n",
    "from scipy.ndimage.filters import maximum_filter\n",
    "from scipy.ndimage.morphology import generate_binary_structure, binary_erosion, iterate_structure\n",
    "from microphone import record_audio\n",
    "from typing import Tuple, Callable, List\n",
    "from numba import njit\n",
    "import librosa\n",
    "\n",
    "%matplotlib notebook"
   ]
  },
  {
   "cell_type": "code",
   "execution_count": 2,
   "id": "68be65bc",
   "metadata": {},
   "outputs": [],
   "source": [
    "import ipynb\n",
    "from ipynb.fs.full.audio_to_samples import mp3_path_to_samples, microphone_audio_to_samples\n",
    "from ipynb.fs.full.spectro_peaks import _peaks, local_peak_locations, local_peaks_mask\n",
    "from ipynb.fs.full.Fingerprints_from_Peaks import create_fingerprints"
   ]
  },
  {
   "cell_type": "code",
   "execution_count": 62,
   "id": "8f142e42",
   "metadata": {},
   "outputs": [],
   "source": [
    "##### skip\n",
    "from collections import Counter\n",
    "import pickle\n",
    "def load_or_save_song_database(*, action: str, file_name: str, song_database=None):\n",
    "    if action == \"load\":\n",
    "        song_database_file = open(file_name, \"rb\")\n",
    "        song_database = pickle.load(song_database_file)\n",
    "        song_database_file.close()\n",
    "        return song_database\n",
    "    elif action == \"save\":\n",
    "        song_database_file = open(file_name, \"wb\")\n",
    "        pickle.dump(song_database, song_database_file)\n",
    "        song_database_file.close()\n",
    "\n",
    "def add_fingerprint_song_pair(\n",
    "    fingerprint: tuple, song_name: str, time_stamp: float, song_database: dict\n",
    "):\n",
    "    if fingerprint in song_database.keys():\n",
    "        song_database[fingerprint].append((song_name, time_stamp))\n",
    "    else:\n",
    "        song_database[fingerprint] = [(song_name, time_stamp)]"
   ]
  },
  {
   "cell_type": "code",
   "execution_count": 63,
   "id": "b495b026",
   "metadata": {},
   "outputs": [
    {
     "name": "stdout",
     "output_type": "stream",
     "text": [
      "~ Welcome to COGZAM ~\n",
      "Would you like to (1)record or (2)upload: 1\n",
      "Using input device 'AirPods'\n",
      "Recording ended\n"
     ]
    }
   ],
   "source": [
    "import pickle \n",
    "import ipynb\n",
    "\n",
    "from ipynb.fs.full.audio_to_samples import mp3_path_to_samples, microphone_audio_to_samples\n",
    "from ipynb.fs.full.spectro_peaks import _peaks, local_peak_locations, local_peaks_mask\n",
    "from ipynb.fs.full.Fingerprints_from_Peaks import create_fingerprints\n",
    "#/Users/koalum/Documents/GitHub/Week1Capstone/songs/allstar.mp3\n",
    "\n",
    "print(\"~ Welcome to COGZAM ~\")\n",
    "\n",
    "var = input(\"Would you like to (1)record or (2)upload: \")\n",
    "if var == str(1):\n",
    "    samples = microphone_audio_to_samples(15)\n",
    "elif var == str(2):\n",
    "    file_path = input(\"Input your file path: \")\n",
    "    samples = mp3_path_to_samples(file_path)\n",
    "else:\n",
    "    print(\"That's not an option, please type 1 or 2.\")"
   ]
  },
  {
   "cell_type": "code",
   "execution_count": 64,
   "id": "5b8e43bf",
   "metadata": {
    "scrolled": false
   },
   "outputs": [],
   "source": [
    "sampling_rate = 44100\n",
    "recorded_audio = samples\n",
    "\n",
    "S, freqs, times = mlab.specgram(\n",
    "    recorded_audio,\n",
    "    NFFT=4096,\n",
    "    Fs=sampling_rate,\n",
    "    window=mlab.window_hanning,\n",
    "    noverlap=4096 // 2,\n",
    ")\n",
    "\n",
    "peaks = local_peaks_mask(S, cutoff = np.percentile(S, 75))\n",
    "song_fingerprints = create_fingerprints(peaks, 15)\n",
    "song_database = load_or_save_song_database(action = \"load\", file_name = \"songs_db.pkl\")"
   ]
  },
  {
   "cell_type": "code",
   "execution_count": 66,
   "id": "8f48b328",
   "metadata": {},
   "outputs": [],
   "source": [
    "def get_song(fingerprints: list, song_database: dict) -> str:\n",
    "    potential_songs = []\n",
    "    \n",
    "    for fingerprint in fingerprints:\n",
    "        if fingerprint[0] in song_database:\n",
    "            for song_name, time_stamp in song_database[fingerprint[0]]:\n",
    "                potential_songs.append(song_name)\n",
    "    \n",
    "    song_matches = Counter(potential_songs)\n",
    "    \n",
    "    print(fingerprint)\n",
    "    print(len(fingerprints))\n",
    "    print(song_matches)\n",
    "    if (song_matches.most_common(1)[0][1] - song_matches.most_common(2)[1][1] > 20) and song_matches.most_common(1)[0][1] > 50:\n",
    "        return song_matches.most_common(1)[0]\n",
    "    else:\n",
    "        return \"NO SONG MATCH\""
   ]
  },
  {
   "cell_type": "code",
   "execution_count": 67,
   "id": "23843911",
   "metadata": {},
   "outputs": [
    {
     "name": "stdout",
     "output_type": "stream",
     "text": [
      "((633, 40, 4), 316)\n",
      "2505\n",
      "Counter({'allstar.mp3': 102, 'Undertale OST - Snowy.mp3': 3, 'magicschoolbus.mp3': 2})\n",
      "Your song matched: allstar.mp3\n"
     ]
    }
   ],
   "source": [
    "output = get_song(song_fingerprints, song_database)\n",
    "if output == \"NO SONG MATCH\":\n",
    "    decision = input(\"No matched song, would you like to add it to the database? Yes or no: \")\n",
    "    if decision.lower() == \"yes\":\n",
    "        name = input(\"Enter song name: \")\n",
    "        load_or_save_song_database(action = \"save\", file_name = name, song_database = song_database)\n",
    "    elif decision.lower() == \"no\":\n",
    "        print(\"Thank you for using COGZAM\")\n",
    "else:\n",
    "    print(\"Your song matched: \" + str(output[0])) # fix this later"
   ]
  },
  {
   "cell_type": "code",
   "execution_count": null,
   "id": "4486fa5d",
   "metadata": {},
   "outputs": [],
   "source": []
  }
 ],
 "metadata": {
  "kernelspec": {
   "display_name": "Python 3",
   "language": "python",
   "name": "python3"
  },
  "language_info": {
   "codemirror_mode": {
    "name": "ipython",
    "version": 3
   },
   "file_extension": ".py",
   "mimetype": "text/x-python",
   "name": "python",
   "nbconvert_exporter": "python",
   "pygments_lexer": "ipython3",
   "version": "3.8.10"
  }
 },
 "nbformat": 4,
 "nbformat_minor": 5
}
