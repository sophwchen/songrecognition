{
 "cells": [
  {
   "cell_type": "code",
   "execution_count": 8,
   "id": "1c67e711",
   "metadata": {},
   "outputs": [
    {
     "name": "stdout",
     "output_type": "stream",
     "text": [
      "Welcome\n",
      "Would you like to (1)record or (2)upload: 2\n",
      "Input your file path: /Users/koalum/Desktop/jpn - amend.mp3\n"
     ]
    },
    {
     "name": "stderr",
     "output_type": "stream",
     "text": [
      "/opt/anaconda3/envs/week1/lib/python3.8/site-packages/librosa/core/audio.py:165: UserWarning: PySoundFile failed. Trying audioread instead.\n",
      "  warnings.warn(\"PySoundFile failed. Trying audioread instead.\")\n"
     ]
    }
   ],
   "source": [
    "import pickle \n",
    "import ipynb\n",
    "from ipynb.fs.full.audio_to_samples import mp3_path_to_samples, microphone_audio_to_samples\n",
    "from ipynb.fs.full.spectro_peaks import _peaks, local_peak_locations, local_peaks_mask\n",
    "from ipynb.fs.full.Fingerprints_from_Peaks import create_fingerprints\n",
    "from ipynb.fs.full.Database_Thing import *\n",
    "#/Users/koalum/Desktop/jpn - amend.mp3\n",
    "\n",
    "print(\"~ Welcome to COGZAM ~\")\n",
    "\n",
    "var = input(\"Would you like to (1)record or (2)upload: \")\n",
    "if var == str(1):\n",
    "    samples = microphone_audio_to_samples()\n",
    "elif var == str(2):\n",
    "    file_path = input(\"Input your file path: \")\n",
    "    samples = mp3_path_to_samples(file_path)\n",
    "else:\n",
    "    print(\"That's not an option, please type 1 or 2.\")"
   ]
  },
  {
   "cell_type": "code",
   "execution_count": 15,
   "id": "f367f813",
   "metadata": {},
   "outputs": [
    {
     "data": {
      "text/plain": [
       "'\\nfeed fingerprints into get_song() and print matched song(s) \\nif there are no matched song, ask user if they wasnt to add their song to the database\\n\\noutput = get_song()\\nif output == \"NO SONG MATCH\":\\n    decision = input(\"No matched song, would you like to add it to the database? Yes or No: \")\\n    if decision == \"Yes\" or \"yes\":\\n        add to database\\n    elif decision == \"No\" or \"no\":\\n        print(\"Thank you for using COGZAM\")\\nelse:\\n    print(\"Your song matched: \" + str(song name and artist))\\n'"
      ]
     },
     "execution_count": 15,
     "metadata": {},
     "output_type": "execute_result"
    }
   ],
   "source": [
    "\"\"\"\n",
    "feed fingerprints into get_song() and print matched song(s) \n",
    "if there are no matched song, ask user if they wasnt to add their song to the database\n",
    "\n",
    "output = get_song()\n",
    "if output == \"NO SONG MATCH\":\n",
    "    decision = input(\"No matched song, would you like to add it to the database? Yes or No: \")\n",
    "    if decision == \"Yes\" or \"yes\":\n",
    "        load_or_save_song_database(action = \"save\", file_name = <song_name>, )\n",
    "    elif decision == \"No\" or \"no\":\n",
    "        print(\"Thank you for using COGZAM\")\n",
    "else:\n",
    "    print(\"Your song matched: \" + str(song name and artist))\n",
    "\"\"\""
   ]
  },
  {
   "cell_type": "code",
   "execution_count": null,
   "id": "a28c7ff3",
   "metadata": {},
   "outputs": [],
   "source": []
  }
 ],
 "metadata": {
  "kernelspec": {
   "display_name": "Python 3",
   "language": "python",
   "name": "python3"
  },
  "language_info": {
   "codemirror_mode": {
    "name": "ipython",
    "version": 3
   },
   "file_extension": ".py",
   "mimetype": "text/x-python",
   "name": "python",
   "nbconvert_exporter": "python",
   "pygments_lexer": "ipython3",
   "version": "3.8.10"
  }
 },
 "nbformat": 4,
 "nbformat_minor": 5
}
