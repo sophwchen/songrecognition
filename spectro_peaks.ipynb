{
 "cells": [
  {
   "cell_type": "code",
   "execution_count": 11,
   "metadata": {},
   "outputs": [],
   "source": [
    "import numpy as np\n",
    "from scipy.ndimage.filters import maximum_filter\n",
    "from scipy.ndimage.morphology import generate_binary_structure, binary_erosion, iterate_structure\n",
    "from typing import Tuple, Callable, List\n",
    "from numba import njit\n",
    "import librosa"
   ]
  },
  {
   "cell_type": "code",
   "execution_count": 12,
   "metadata": {},
   "outputs": [],
   "source": [
    "@njit\n",
    "def _peaks(\n",
    "    data_2d: np.ndarray, rows: np.ndarray, cols: np.ndarray, amp_min: float\n",
    ") -> List[Tuple[int, int]]:\n",
    "    \n",
    "    peaks = []\n",
    "    for c, r in np.ndindex(*data_2d.shape[::-1]):\n",
    "        if data_2d[r, c] <= amp_min:\n",
    "            continue\n",
    "        for dr, dc in zip(rows, cols):\n",
    "            if dr == 0 and dc == 0:\n",
    "                continue\n",
    "            if not (0 <= r + dr < data_2d.shape[0]):\n",
    "                continue\n",
    "            if not (0 <= c + dc < data_2d.shape[1]):\n",
    "                continue\n",
    "\n",
    "            if data_2d[r, c] < data_2d[r + dr, c + dc]:\n",
    "                break\n",
    "        else:\n",
    "            peaks.append((r, c))\n",
    "    return peaks\n",
    "\n",
    "def local_peak_locations(data_2d: np.ndarray, neighborhood: np.ndarray, amp_min: float):\n",
    "    rows, cols = np.where(neighborhood)\n",
    "    assert neighborhood.shape[0] % 2 == 1\n",
    "    assert neighborhood.shape[1] % 2 == 1\n",
    "    rows -= neighborhood.shape[0] // 2\n",
    "    cols -= neighborhood.shape[1] // 2\n",
    "\n",
    "    return _peaks(data_2d, rows, cols, amp_min=amp_min)"
   ]
  },
  {
   "cell_type": "code",
   "execution_count": 13,
   "metadata": {},
   "outputs": [],
   "source": [
    "def local_peaks_mask(data: np.ndarray, cutoff: float) -> np.ndarray:\n",
    "    neighborhood_mask = generate_binary_structure(2, 1) #footprint\n",
    "    neighborhood_mask = iterate_structure(neighborhood_mask, 20)\n",
    "    peak_locations = local_peak_locations(data, neighborhood_mask, cutoff)\n",
    "\n",
    "    peak_locations = np.array(peak_locations)\n",
    "\n",
    "    return peak_locations"
   ]
  },
  {
   "cell_type": "code",
   "execution_count": null,
   "metadata": {},
   "outputs": [],
   "source": []
  }
 ],
 "metadata": {
  "kernelspec": {
   "display_name": "Python 3",
   "language": "python",
   "name": "python3"
  },
  "language_info": {
   "codemirror_mode": {
    "name": "ipython",
    "version": 3
   },
   "file_extension": ".py",
   "mimetype": "text/x-python",
   "name": "python",
   "nbconvert_exporter": "python",
   "pygments_lexer": "ipython3",
   "version": "3.8.10"
  }
 },
 "nbformat": 4,
 "nbformat_minor": 4
}
